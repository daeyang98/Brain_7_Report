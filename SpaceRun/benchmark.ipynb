{
 "cells": [
  {
   "cell_type": "code",
   "execution_count": 2,
   "metadata": {},
   "outputs": [
    {
     "name": "stdout",
     "output_type": "stream",
     "text": [
      "pygame 2.0.1 (SDL 2.0.14, Python 3.9.2)\n",
      "Hello from the pygame community. https://www.pygame.org/contribute.html\n"
     ]
    }
   ],
   "source": [
    "import time\r\n",
    "from typing import Dict, List\r\n",
    "import numpy as np\r\n",
    "import yaml\r\n",
    "from scipy import signal\r\n",
    "from matplotlib import pyplot as plt\r\n",
    "import os\r\n",
    "import pickle\r\n",
    "\r\n",
    "from aliases import FilePath\r\n",
    "from models import *\r\n",
    "from utils import parse_snippet"
   ]
  },
  {
   "cell_type": "code",
   "execution_count": 3,
   "metadata": {},
   "outputs": [],
   "source": [
    "# Load SpikerBox parameters\r\n",
    "CONFIG_PATH: FilePath = \"settings/spiker_box.srconfig\"\r\n",
    "with open(CONFIG_PATH, \"r\") as config_file:\r\n",
    "    config_data: Dict = yaml.safe_load(config_file)\r\n",
    "    # SpikerBox arguments\r\n",
    "    buffer_time: float = float(config_data[\"buffer_time\"])\r\n",
    "    update_factor: float = float(config_data[\"update_factor\"])\r\n",
    "    wait_time: float = float(config_data[\"wait_time\"])\r\n",
    "    num_samples: int = int(config_data[\"num_samples\"])\r\n",
    "    quality_factor: float = float(config_data[\"quality_factor\"])\r\n",
    "    # Modified simple classifier parameters\r\n",
    "    m_event_threshold: int = int(config_data[\"classifier\"][\"MSC\"][\"event_threshold\"])\r\n",
    "    positive_amplitude: float = float(config_data[\"classifier\"][\"MSC\"][\"positive_amplitude\"])\r\n",
    "    negative_amplitude: float = float(config_data[\"classifier\"][\"MSC\"][\"negative_amplitude\"])\r\n",
    "    spacing: float = float(config_data[\"classifier\"][\"MSC\"][\"spacing\"])\r\n",
    "    # Simple classifier parameters\r\n",
    "    s_event_threshold: int = int(config_data[\"classifier\"][\"USC\"][\"event_threshold\"])\r\n",
    "    # Catch22 model paths\r\n",
    "    knn_path: FilePath = config_data[\"classifier\"][\"KNN\"][\"file_path\"]\r\n",
    "    rfc_path: FilePath = config_data[\"classifier\"][\"RFC\"][\"file_path\"]\r\n",
    "    svc_path: FilePath = config_data[\"classifier\"][\"SVC\"][\"file_path\"]"
   ]
  },
  {
   "cell_type": "code",
   "execution_count": 4,
   "metadata": {},
   "outputs": [],
   "source": [
    "# Initialise models\r\n",
    "modified_model: ModelBase = ModifiedModel(m_event_threshold, positive_amplitude, negative_amplitude, spacing)\r\n",
    "simple_model: ModelBase = SimpleModel(s_event_threshold)\r\n",
    "knn_model: ModelBase = Catch22Model.create_from_file(knn_path)\r\n",
    "rfc_model: ModelBase = Catch22Model.create_from_file(rfc_path)\r\n",
    "svc_model: ModelBase = Catch22Model.create_from_file(svc_path)"
   ]
  },
  {
   "cell_type": "code",
   "execution_count": 5,
   "metadata": {},
   "outputs": [],
   "source": [
    "TEST_FILE: FilePath = \"snippets/left1_left_1.npy\"\r\n",
    "# Load snippet\r\n",
    "signal_slice, _ = parse_snippet(np.load(TEST_FILE))\r\n",
    "# Standardise and downsample signal\r\n",
    "test_data: np.ndarray = signal.resample(signal_slice, num_samples)\r\n",
    "# Number of trials\r\n",
    "num_trials: int = int(1e3)"
   ]
  },
  {
   "cell_type": "code",
   "execution_count": 6,
   "metadata": {},
   "outputs": [],
   "source": [
    "classification_times: Dict[ModelType, List[int]] = {}"
   ]
  },
  {
   "cell_type": "code",
   "execution_count": 7,
   "metadata": {},
   "outputs": [],
   "source": [
    "def time_model(model: ModelBase, num_trials: int) -> List[int]:\r\n",
    "    performance_times: List[int] = []\r\n",
    "    for _ in range(num_trials):\r\n",
    "        start_time: int = time.perf_counter_ns()\r\n",
    "        _ = model.classify(test_data)\r\n",
    "        final_time: int = time.perf_counter_ns()\r\n",
    "        performance_times.append((final_time - start_time) // 1e6)\r\n",
    "    return performance_times"
   ]
  },
  {
   "cell_type": "code",
   "execution_count": 8,
   "metadata": {},
   "outputs": [],
   "source": [
    "classification_times[ModelType.MSC] = time_model(modified_model, num_trials)\r\n",
    "classification_times[ModelType.USC] = time_model(simple_model, num_trials)\r\n",
    "classification_times[ModelType.KNN] = time_model(knn_model, num_trials)\r\n",
    "classification_times[ModelType.RFC] = time_model(rfc_model, num_trials)\r\n",
    "classification_times[ModelType.SVC] = time_model(svc_model, num_trials)\r\n"
   ]
  },
  {
   "cell_type": "code",
   "execution_count": 9,
   "metadata": {},
   "outputs": [],
   "source": [
    "DIAGNOSTICS_FOLDER: FilePath = \"diagnostics\"\r\n",
    "if not os.path.isdir(DIAGNOSTICS_FOLDER):\r\n",
    "    os.mkdir(DIAGNOSTICS_FOLDER)"
   ]
  },
  {
   "cell_type": "code",
   "execution_count": 10,
   "metadata": {},
   "outputs": [
    {
     "data": {
      "image/png": "[encoded data removed]",
      "text/plain": [
       "<Figure size 432x288 with 1 Axes>"
      ]
     },
     "metadata": {
      "needs_background": "light"
     },
     "output_type": "display_data"
    }
   ],
   "source": [
    "plt.boxplot(classification_times.values(), labels=[\"MSC\", \"USC\", \"KNN\", \"RFC\", \"SVC\"])\r\n",
    "plt.ylabel(\"Classification time (ms)\")\r\n",
    "plt.title(\"Classification model performance benchmark\");\r\n",
    "plt.savefig(f\"{DIAGNOSTICS_FOLDER}/classification_performance_boxplot.png\")"
   ]
  },
  {
   "cell_type": "code",
   "execution_count": 14,
   "metadata": {},
   "outputs": [],
   "source": [
    "classification_performance_cache: FilePath = f\"{DIAGNOSTICS_FOLDER}/classification_performance.pickle\"\r\n",
    "if not os.path.isfile(classification_performance_cache):\r\n",
    "    with open(classification_performance_cache, \"wb\") as handle:\r\n",
    "        pickle.dump(classification_times, handle)"
   ]
  },
  {
   "cell_type": "code",
   "execution_count": 12,
   "metadata": {},
   "outputs": [
    {
     "data": {
      "image/png": "[encoded data removed]",
      "text/plain": [
       "<Figure size 432x288 with 1 Axes>"
      ]
     },
     "metadata": {
      "needs_background": "light"
     },
     "output_type": "display_data"
    }
   ],
   "source": [
    "if os.path.isfile(classification_performance_cache):\r\n",
    "    with open(classification_performance_cache, \"rb\") as handle:\r\n",
    "        accuracy_data = pickle.load(handle)\r\n",
    "        plt.boxplot(accuracy_data.values(), labels=[\"MSC\", \"USC\", \"KNN\", \"RFC\", \"SVC\"])\r\n",
    "        plt.ylabel(\"Classification time (ms)\")\r\n",
    "        plt.title(\"Classification model performance benchmark\");"
   ]
  },
  {
   "cell_type": "code",
   "execution_count": null,
   "metadata": {},
   "outputs": [],
   "source": []
  }
 ],
 "metadata": {
  "kernelspec": {
   "display_name": "Python 3.9.2 64-bit ('main_env': conda)",
   "name": "python392jvsc74a57bd054e01427aa8be7bec89e51c9856e65d365354790435ad568830a6719ba3e065c"
  },
  "language_info": {
   "codemirror_mode": {
    "name": "ipython",
    "version": 3
   },
   "file_extension": ".py",
   "mimetype": "text/x-python",
   "name": "python",
   "nbconvert_exporter": "python",
   "pygments_lexer": "ipython3",
   "version": "3.9.2"
  },
  "orig_nbformat": 2
 },
 "nbformat": 4,
 "nbformat_minor": 2
}