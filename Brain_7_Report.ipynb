{
 "cells": [
  {
   "cell_type": "markdown",
   "metadata": {},
   "source": [
    "# Executive Summary\r\n",
    "\r\n",
    "In the interdisciplinary unit of DATA3888/PHYS3888 (Semester 1, 2021), our team aimed to build a brain machine interface that uses machine-learning techniques to gain meaningful insights from real-time physiological measurements. In an increasingly data-driven world, there is a demand for data scientists to effectively combine, analyse and derive observations from large datasets[do i have to reference this]. Physicists are also required to adapt from their traditional qualitative-grounded science and apply their expertise more broadly in this data-centric era in order to contribute to modern day problems [do i have to reference this]. Through this interdisciplinary project, Brain_7 has introduced an innovative solution that  illustrates the concepts and skills we have learnt from our respective disciplines. In addition, the dual disciplinary team helmed by Data Science and Physics majors, worked together to utilise our strengths to a collaborative advantage.\r\n",
    "\r\n",
    "Our focus for Brain_7 was to design a solution that solved a modern-day social problem. Over 4.3 million Australians are estimated to have a form of disability, and over three-quarters (76.8%) of those living with a disability reported a physical disorder as their main condition (Australian Network of Disability, 2019). With these factors taken into consideration, our aim for this project was not only to demonstrate our interdisciplinary effectiveness but also, to conceptualise a solution that would actively engage the population living with mobility issues.\r\n",
    "\r\n",
    "The solution that we have created is Space Run, a game inspired by Space Invaders and Temple Run. The Physics students used the Brain Spikerbox and the EEG headband to detect electrical activity caused by eye movement changes. These measurements were then extracted by the Data students using a simple classifier which assessed and then categorised the eye movements into left and right. The decisions made by the simple classifier were fed into the application, allowing a user to play our creative yet simple game, Space Run. \r\n"
   ]
  },
  {
   "cell_type": "markdown",
   "metadata": {},
   "source": []
  },
  {
   "cell_type": "code",
   "execution_count": null,
   "metadata": {},
   "outputs": [],
   "source": []
  }
 ],
 "metadata": {
  "interpreter": {
   "hash": "54e01427aa8be7bec89e51c9856e65d365354790435ad568830a6719ba3e065c"
  },
  "kernelspec": {
   "display_name": "Python 3.9.2 64-bit ('main_env': conda)",
   "name": "python3"
  },
  "language_info": {
   "name": "python",
   "version": ""
  },
  "orig_nbformat": 4
 },
 "nbformat": 4,
 "nbformat_minor": 2
}